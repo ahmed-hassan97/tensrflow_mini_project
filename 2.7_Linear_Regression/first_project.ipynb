{
  "nbformat": 4,
  "nbformat_minor": 0,
  "metadata": {
    "kernelspec": {
      "display_name": "Python 3",
      "language": "python",
      "name": "python3"
    },
    "language_info": {
      "codemirror_mode": {
        "name": "ipython",
        "version": 3
      },
      "file_extension": ".py",
      "mimetype": "text/x-python",
      "name": "python",
      "nbconvert_exporter": "python",
      "pygments_lexer": "ipython3",
      "version": "3.7.3"
    },
    "colab": {
      "name": "2.7.1 Example 1.ipynb",
      "provenance": []
    }
  },
  "cells": [
    {
      "cell_type": "code",
      "metadata": {
        "id": "pA7SfreYknVu",
        "colab_type": "code",
        "colab": {
          "base_uri": "https://localhost:8080/",
          "height": 63
        },
        "outputId": "cd86dc6e-eeb3-42ab-b409-1037fc0058bc"
      },
      "source": [
        "import pandas as pd\n",
        "from sklearn import datasets\n",
        "import tensorflow as tf\n",
        "import itertools"
      ],
      "execution_count": 1,
      "outputs": [
        {
          "output_type": "display_data",
          "data": {
            "text/html": [
              "<p style=\"color: red;\">\n",
              "The default version of TensorFlow in Colab will soon switch to TensorFlow 2.x.<br>\n",
              "We recommend you <a href=\"https://www.tensorflow.org/guide/migrate\" target=\"_blank\">upgrade</a> now \n",
              "or ensure your notebook will continue to use TensorFlow 1.x via the <code>%tensorflow_version 1.x</code> magic:\n",
              "<a href=\"https://colab.research.google.com/notebooks/tensorflow_version.ipynb\" target=\"_blank\">more info</a>.</p>\n"
            ],
            "text/plain": [
              "<IPython.core.display.HTML object>"
            ]
          },
          "metadata": {
            "tags": []
          }
        }
      ]
    },
    {
      "cell_type": "code",
      "metadata": {
        "id": "v0HSsrSkknV_",
        "colab_type": "code",
        "colab": {
          "base_uri": "https://localhost:8080/",
          "height": 221
        },
        "outputId": "cd8b5d2a-531e-4c9d-c11d-066f352c42de"
      },
      "source": [
        "COLUMNS = [\"crim\", \"zn\", \"indus\", \"nox\", \"rm\", \"age\",\"dis\", \"tax\", \"ptratio\", \"medv\"]\n",
        "training_set = pd.read_csv(\"boston_train.csv\", skipinitialspace=True,skiprows=1, names=COLUMNS)\n",
        "test_set = pd.read_csv(\"boston_test.csv\", skipinitialspace=True,skiprows=1, names=COLUMNS)\n",
        "prediction_set = pd.read_csv(\"boston_predict.csv\", skipinitialspace=True,skiprows=1, names=COLUMNS)\n",
        "\n",
        "print(training_set.shape, test_set.shape, prediction_set.shape)\t\n",
        "\n",
        "training_set.head()\t\t"
      ],
      "execution_count": 2,
      "outputs": [
        {
          "output_type": "stream",
          "text": [
            "(400, 10) (100, 10) (6, 10)\n"
          ],
          "name": "stdout"
        },
        {
          "output_type": "execute_result",
          "data": {
            "text/html": [
              "<div>\n",
              "<style scoped>\n",
              "    .dataframe tbody tr th:only-of-type {\n",
              "        vertical-align: middle;\n",
              "    }\n",
              "\n",
              "    .dataframe tbody tr th {\n",
              "        vertical-align: top;\n",
              "    }\n",
              "\n",
              "    .dataframe thead th {\n",
              "        text-align: right;\n",
              "    }\n",
              "</style>\n",
              "<table border=\"1\" class=\"dataframe\">\n",
              "  <thead>\n",
              "    <tr style=\"text-align: right;\">\n",
              "      <th></th>\n",
              "      <th>crim</th>\n",
              "      <th>zn</th>\n",
              "      <th>indus</th>\n",
              "      <th>nox</th>\n",
              "      <th>rm</th>\n",
              "      <th>age</th>\n",
              "      <th>dis</th>\n",
              "      <th>tax</th>\n",
              "      <th>ptratio</th>\n",
              "      <th>medv</th>\n",
              "    </tr>\n",
              "  </thead>\n",
              "  <tbody>\n",
              "    <tr>\n",
              "      <th>0</th>\n",
              "      <td>2.30040</td>\n",
              "      <td>0.0</td>\n",
              "      <td>19.58</td>\n",
              "      <td>0.605</td>\n",
              "      <td>6.319</td>\n",
              "      <td>96.1</td>\n",
              "      <td>2.1000</td>\n",
              "      <td>403</td>\n",
              "      <td>14.7</td>\n",
              "      <td>23.8</td>\n",
              "    </tr>\n",
              "    <tr>\n",
              "      <th>1</th>\n",
              "      <td>13.35980</td>\n",
              "      <td>0.0</td>\n",
              "      <td>18.10</td>\n",
              "      <td>0.693</td>\n",
              "      <td>5.887</td>\n",
              "      <td>94.7</td>\n",
              "      <td>1.7821</td>\n",
              "      <td>666</td>\n",
              "      <td>20.2</td>\n",
              "      <td>12.7</td>\n",
              "    </tr>\n",
              "    <tr>\n",
              "      <th>2</th>\n",
              "      <td>0.12744</td>\n",
              "      <td>0.0</td>\n",
              "      <td>6.91</td>\n",
              "      <td>0.448</td>\n",
              "      <td>6.770</td>\n",
              "      <td>2.9</td>\n",
              "      <td>5.7209</td>\n",
              "      <td>233</td>\n",
              "      <td>17.9</td>\n",
              "      <td>26.6</td>\n",
              "    </tr>\n",
              "    <tr>\n",
              "      <th>3</th>\n",
              "      <td>0.15876</td>\n",
              "      <td>0.0</td>\n",
              "      <td>10.81</td>\n",
              "      <td>0.413</td>\n",
              "      <td>5.961</td>\n",
              "      <td>17.5</td>\n",
              "      <td>5.2873</td>\n",
              "      <td>305</td>\n",
              "      <td>19.2</td>\n",
              "      <td>21.7</td>\n",
              "    </tr>\n",
              "    <tr>\n",
              "      <th>4</th>\n",
              "      <td>0.03768</td>\n",
              "      <td>80.0</td>\n",
              "      <td>1.52</td>\n",
              "      <td>0.404</td>\n",
              "      <td>7.274</td>\n",
              "      <td>38.3</td>\n",
              "      <td>7.3090</td>\n",
              "      <td>329</td>\n",
              "      <td>12.6</td>\n",
              "      <td>34.6</td>\n",
              "    </tr>\n",
              "  </tbody>\n",
              "</table>\n",
              "</div>"
            ],
            "text/plain": [
              "       crim    zn  indus    nox     rm   age     dis  tax  ptratio  medv\n",
              "0   2.30040   0.0  19.58  0.605  6.319  96.1  2.1000  403     14.7  23.8\n",
              "1  13.35980   0.0  18.10  0.693  5.887  94.7  1.7821  666     20.2  12.7\n",
              "2   0.12744   0.0   6.91  0.448  6.770   2.9  5.7209  233     17.9  26.6\n",
              "3   0.15876   0.0  10.81  0.413  5.961  17.5  5.2873  305     19.2  21.7\n",
              "4   0.03768  80.0   1.52  0.404  7.274  38.3  7.3090  329     12.6  34.6"
            ]
          },
          "metadata": {
            "tags": []
          },
          "execution_count": 2
        }
      ]
    },
    {
      "cell_type": "code",
      "metadata": {
        "id": "V9PimLhbknWK",
        "colab_type": "code",
        "colab": {}
      },
      "source": [
        "FEATURES = [\"crim\", \"zn\", \"indus\", \"nox\", \"rm\",\"age\", \"dis\", \"tax\", \"ptratio\"]\n",
        "LABEL = \"medv\"\n",
        "feature_cols = [tf.feature_column.numeric_column(k) for k in FEATURES]"
      ],
      "execution_count": 0,
      "outputs": []
    },
    {
      "cell_type": "code",
      "metadata": {
        "id": "eYsaRxgSknWS",
        "colab_type": "code",
        "colab": {
          "base_uri": "https://localhost:8080/",
          "height": 173
        },
        "outputId": "c13d872e-4687-4678-b8c1-92701d4bb434"
      },
      "source": [
        "estimator = tf.estimator.LinearRegressor(feature_columns=feature_cols,model_dir=\"train\")"
      ],
      "execution_count": 6,
      "outputs": [
        {
          "output_type": "stream",
          "text": [
            "INFO:tensorflow:Using default config.\n",
            "INFO:tensorflow:Using config: {'_model_dir': 'train', '_tf_random_seed': None, '_save_summary_steps': 100, '_save_checkpoints_steps': None, '_save_checkpoints_secs': 600, '_session_config': allow_soft_placement: true\n",
            "graph_options {\n",
            "  rewrite_options {\n",
            "    meta_optimizer_iterations: ONE\n",
            "  }\n",
            "}\n",
            ", '_keep_checkpoint_max': 5, '_keep_checkpoint_every_n_hours': 10000, '_log_step_count_steps': 100, '_train_distribute': None, '_device_fn': None, '_protocol': None, '_eval_distribute': None, '_experimental_distribute': None, '_experimental_max_worker_delay_secs': None, '_session_creation_timeout_secs': 7200, '_service': None, '_cluster_spec': <tensorflow.python.training.server_lib.ClusterSpec object at 0x7fbb09cd4358>, '_task_type': 'worker', '_task_id': 0, '_global_id_in_cluster': 0, '_master': '', '_evaluation_master': '', '_is_chief': True, '_num_ps_replicas': 0, '_num_worker_replicas': 1}\n"
          ],
          "name": "stdout"
        }
      ]
    },
    {
      "cell_type": "code",
      "metadata": {
        "id": "K74SWWvVknWb",
        "colab_type": "code",
        "colab": {}
      },
      "source": [
        "def get_input_fn(data_set, num_epochs=None, n_batch = 128, shuffle=True):    \n",
        "         return tf.estimator.inputs.pandas_input_fn(       \n",
        "         x=pd.DataFrame({k: data_set[k].values for k in FEATURES}),       \n",
        "         y = pd.Series(data_set[LABEL].values),       \n",
        "         batch_size=n_batch,          \n",
        "         num_epochs=num_epochs,       \n",
        "         shuffle=shuffle)"
      ],
      "execution_count": 0,
      "outputs": []
    },
    {
      "cell_type": "code",
      "metadata": {
        "id": "smlsVrs6knWm",
        "colab_type": "code",
        "colab": {
          "base_uri": "https://localhost:8080/",
          "height": 1000
        },
        "outputId": "d578fa48-b6d7-4fec-a759-b5e80027024b"
      },
      "source": [
        "estimator.train(input_fn=get_input_fn(training_set,num_epochs=None,n_batch = 128,                                      \n",
        "                                           shuffle=False),steps=1000)"
      ],
      "execution_count": 8,
      "outputs": [
        {
          "output_type": "stream",
          "text": [
            "WARNING:tensorflow:From /usr/local/lib/python3.6/dist-packages/tensorflow_core/python/training/training_util.py:236: Variable.initialized_value (from tensorflow.python.ops.variables) is deprecated and will be removed in a future version.\n",
            "Instructions for updating:\n",
            "Use Variable.read_value. Variables in 2.X are initialized automatically both in eager and graph (inside tf.defun) contexts.\n",
            "WARNING:tensorflow:From /usr/local/lib/python3.6/dist-packages/tensorflow_estimator/python/estimator/inputs/queues/feeding_queue_runner.py:62: QueueRunner.__init__ (from tensorflow.python.training.queue_runner_impl) is deprecated and will be removed in a future version.\n",
            "Instructions for updating:\n",
            "To construct input pipelines, use the `tf.data` module.\n",
            "WARNING:tensorflow:From /usr/local/lib/python3.6/dist-packages/tensorflow_estimator/python/estimator/inputs/queues/feeding_functions.py:500: add_queue_runner (from tensorflow.python.training.queue_runner_impl) is deprecated and will be removed in a future version.\n",
            "Instructions for updating:\n",
            "To construct input pipelines, use the `tf.data` module.\n",
            "INFO:tensorflow:Calling model_fn.\n",
            "WARNING:tensorflow:From /usr/local/lib/python3.6/dist-packages/tensorflow_core/python/feature_column/feature_column_v2.py:305: Layer.add_variable (from tensorflow.python.keras.engine.base_layer) is deprecated and will be removed in a future version.\n",
            "Instructions for updating:\n",
            "Please use `layer.add_weight` method instead.\n",
            "WARNING:tensorflow:From /usr/local/lib/python3.6/dist-packages/tensorflow_core/python/ops/resource_variable_ops.py:1630: calling BaseResourceVariable.__init__ (from tensorflow.python.ops.resource_variable_ops) with constraint is deprecated and will be removed in a future version.\n",
            "Instructions for updating:\n",
            "If using Keras pass *_constraint arguments to layers.\n",
            "WARNING:tensorflow:From /usr/local/lib/python3.6/dist-packages/tensorflow_estimator/python/estimator/canned/linear.py:308: to_float (from tensorflow.python.ops.math_ops) is deprecated and will be removed in a future version.\n",
            "Instructions for updating:\n",
            "Use `tf.cast` instead.\n",
            "INFO:tensorflow:Done calling model_fn.\n",
            "INFO:tensorflow:Create CheckpointSaverHook.\n",
            "WARNING:tensorflow:From /usr/local/lib/python3.6/dist-packages/tensorflow_core/python/ops/array_ops.py:1475: where (from tensorflow.python.ops.array_ops) is deprecated and will be removed in a future version.\n",
            "Instructions for updating:\n",
            "Use tf.where in 2.0, which has the same broadcast rule as np.where\n",
            "INFO:tensorflow:Graph was finalized.\n",
            "INFO:tensorflow:Running local_init_op.\n",
            "INFO:tensorflow:Done running local_init_op.\n",
            "WARNING:tensorflow:From /usr/local/lib/python3.6/dist-packages/tensorflow_core/python/training/monitored_session.py:882: start_queue_runners (from tensorflow.python.training.queue_runner_impl) is deprecated and will be removed in a future version.\n",
            "Instructions for updating:\n",
            "To construct input pipelines, use the `tf.data` module.\n",
            "INFO:tensorflow:Saving checkpoints for 0 into train/model.ckpt.\n",
            "INFO:tensorflow:loss = 83729.64, step = 1\n",
            "INFO:tensorflow:global_step/sec: 239.087\n",
            "INFO:tensorflow:loss = 13909.656, step = 101 (0.420 sec)\n",
            "WARNING:tensorflow:It seems that global step (tf.train.get_global_step) has not been increased. Current value (could be stable): 103 vs previous value: 103. You could increase the global step by passing tf.train.get_global_step() to Optimizer.apply_gradients or Optimizer.minimize.\n",
            "WARNING:tensorflow:It seems that global step (tf.train.get_global_step) has not been increased. Current value (could be stable): 161 vs previous value: 161. You could increase the global step by passing tf.train.get_global_step() to Optimizer.apply_gradients or Optimizer.minimize.\n",
            "WARNING:tensorflow:It seems that global step (tf.train.get_global_step) has not been increased. Current value (could be stable): 163 vs previous value: 163. You could increase the global step by passing tf.train.get_global_step() to Optimizer.apply_gradients or Optimizer.minimize.\n",
            "WARNING:tensorflow:It seems that global step (tf.train.get_global_step) has not been increased. Current value (could be stable): 171 vs previous value: 171. You could increase the global step by passing tf.train.get_global_step() to Optimizer.apply_gradients or Optimizer.minimize.\n",
            "INFO:tensorflow:global_step/sec: 259.712\n",
            "INFO:tensorflow:loss = 12881.449, step = 201 (0.385 sec)\n",
            "WARNING:tensorflow:It seems that global step (tf.train.get_global_step) has not been increased. Current value (could be stable): 223 vs previous value: 223. You could increase the global step by passing tf.train.get_global_step() to Optimizer.apply_gradients or Optimizer.minimize.\n",
            "INFO:tensorflow:global_step/sec: 257.985\n",
            "INFO:tensorflow:loss = 12391.541, step = 301 (0.394 sec)\n",
            "INFO:tensorflow:global_step/sec: 260.117\n",
            "INFO:tensorflow:loss = 12050.5625, step = 401 (0.379 sec)\n",
            "INFO:tensorflow:global_step/sec: 265.625\n",
            "INFO:tensorflow:loss = 11766.135, step = 501 (0.375 sec)\n",
            "INFO:tensorflow:global_step/sec: 273.431\n",
            "INFO:tensorflow:loss = 11509.919, step = 601 (0.368 sec)\n",
            "INFO:tensorflow:global_step/sec: 286.158\n",
            "INFO:tensorflow:loss = 11272.889, step = 701 (0.348 sec)\n",
            "INFO:tensorflow:global_step/sec: 270.418\n",
            "INFO:tensorflow:loss = 11051.979, step = 801 (0.370 sec)\n",
            "INFO:tensorflow:global_step/sec: 282.455\n",
            "INFO:tensorflow:loss = 10845.8545, step = 901 (0.355 sec)\n",
            "INFO:tensorflow:Saving checkpoints for 1000 into train/model.ckpt.\n",
            "INFO:tensorflow:Loss for final step: 5925.9863.\n"
          ],
          "name": "stdout"
        },
        {
          "output_type": "execute_result",
          "data": {
            "text/plain": [
              "<tensorflow_estimator.python.estimator.canned.linear.LinearRegressor at 0x7fbb09cd40f0>"
            ]
          },
          "metadata": {
            "tags": []
          },
          "execution_count": 8
        }
      ]
    },
    {
      "cell_type": "code",
      "metadata": {
        "id": "htUjhnBlknWw",
        "colab_type": "code",
        "colab": {
          "base_uri": "https://localhost:8080/",
          "height": 207
        },
        "outputId": "aed37250-d835-474e-df69-04737cbd0330"
      },
      "source": [
        "ev = estimator.evaluate(    \n",
        "          input_fn=get_input_fn(test_set,                          \n",
        "          num_epochs=1,                          \n",
        "          n_batch = 128,                          \n",
        "          shuffle=False))"
      ],
      "execution_count": 9,
      "outputs": [
        {
          "output_type": "stream",
          "text": [
            "INFO:tensorflow:Calling model_fn.\n",
            "INFO:tensorflow:Done calling model_fn.\n",
            "INFO:tensorflow:Starting evaluation at 2020-03-01T19:32:34Z\n",
            "INFO:tensorflow:Graph was finalized.\n",
            "INFO:tensorflow:Restoring parameters from train/model.ckpt-1000\n",
            "INFO:tensorflow:Running local_init_op.\n",
            "INFO:tensorflow:Done running local_init_op.\n",
            "INFO:tensorflow:Finished evaluation at 2020-03-01-19:32:34\n",
            "INFO:tensorflow:Saving dict for global step 1000: average_loss = 32.158955, global_step = 1000, label/mean = 22.08, loss = 3215.8955, prediction/mean = 22.404533\n",
            "INFO:tensorflow:Saving 'checkpoint_path' summary for global step 1000: train/model.ckpt-1000\n"
          ],
          "name": "stdout"
        }
      ]
    },
    {
      "cell_type": "code",
      "metadata": {
        "id": "idzZtBuFknW9",
        "colab_type": "code",
        "colab": {
          "base_uri": "https://localhost:8080/",
          "height": 34
        },
        "outputId": "c9f65619-4e91-4f86-cb82-698372d62fc8"
      },
      "source": [
        "loss_score = ev[\"loss\"]\n",
        "print(\"Loss: {0:f}\".format(loss_score))\t"
      ],
      "execution_count": 10,
      "outputs": [
        {
          "output_type": "stream",
          "text": [
            "Loss: 3215.895508\n"
          ],
          "name": "stdout"
        }
      ]
    },
    {
      "cell_type": "code",
      "metadata": {
        "id": "iWmXh5dQknXF",
        "colab_type": "code",
        "colab": {
          "base_uri": "https://localhost:8080/",
          "height": 170
        },
        "outputId": "83d726ae-6c6f-4234-aaf3-97c8f8af7c5d"
      },
      "source": [
        "training_set['medv'].describe()"
      ],
      "execution_count": 11,
      "outputs": [
        {
          "output_type": "execute_result",
          "data": {
            "text/plain": [
              "count    400.000000\n",
              "mean      22.625500\n",
              "std        9.572593\n",
              "min        5.000000\n",
              "25%       16.600000\n",
              "50%       21.400000\n",
              "75%       25.025000\n",
              "max       50.000000\n",
              "Name: medv, dtype: float64"
            ]
          },
          "metadata": {
            "tags": []
          },
          "execution_count": 11
        }
      ]
    },
    {
      "cell_type": "code",
      "metadata": {
        "id": "TjGISj0fknXO",
        "colab_type": "code",
        "colab": {
          "base_uri": "https://localhost:8080/",
          "height": 156
        },
        "outputId": "91dfb674-2a9b-4629-f8fe-54d488b7440e"
      },
      "source": [
        "y = estimator.predict(    \n",
        "         input_fn=get_input_fn(prediction_set,                          \n",
        "         num_epochs=1,                          \n",
        "         n_batch = 128,                          \n",
        "         shuffle=False))\n",
        "\n",
        "predictions = list(p[\"predictions\"] for p in itertools.islice(y, 6))\n",
        "print(\"Predictions: {}\".format(str(predictions)))"
      ],
      "execution_count": 12,
      "outputs": [
        {
          "output_type": "stream",
          "text": [
            "INFO:tensorflow:Calling model_fn.\n",
            "INFO:tensorflow:Done calling model_fn.\n",
            "INFO:tensorflow:Graph was finalized.\n",
            "INFO:tensorflow:Restoring parameters from train/model.ckpt-1000\n",
            "INFO:tensorflow:Running local_init_op.\n",
            "INFO:tensorflow:Done running local_init_op.\n",
            "Predictions: [array([32.297546], dtype=float32), array([18.961248], dtype=float32), array([27.270977], dtype=float32), array([29.299234], dtype=float32), array([16.43668], dtype=float32), array([21.460876], dtype=float32)]\n"
          ],
          "name": "stdout"
        }
      ]
    },
    {
      "cell_type": "code",
      "metadata": {
        "id": "H92RJyKgknXX",
        "colab_type": "code",
        "colab": {}
      },
      "source": [
        ""
      ],
      "execution_count": 0,
      "outputs": []
    }
  ]
}