{
  "nbformat": 4,
  "nbformat_minor": 0,
  "metadata": {
    "kernelspec": {
      "display_name": "Python 3",
      "language": "python",
      "name": "python3"
    },
    "language_info": {
      "codemirror_mode": {
        "name": "ipython",
        "version": 3
      },
      "file_extension": ".py",
      "mimetype": "text/x-python",
      "name": "python",
      "nbconvert_exporter": "python",
      "pygments_lexer": "ipython3",
      "version": "3.7.3"
    },
    "colab": {
      "name": "2.7.2 Example 2.ipynb",
      "provenance": []
    }
  },
  "cells": [
    {
      "cell_type": "code",
      "metadata": {
        "id": "FLSY5V9lmYrK",
        "colab_type": "code",
        "colab": {
          "base_uri": "https://localhost:8080/",
          "height": 63
        },
        "outputId": "af3a4a92-dd31-4ed4-aefa-888d0d203bf6"
      },
      "source": [
        "import pandas as pd\n",
        "import numpy as np\n",
        "import tensorflow as tf\n",
        "import itertools"
      ],
      "execution_count": 1,
      "outputs": [
        {
          "output_type": "display_data",
          "data": {
            "text/html": [
              "<p style=\"color: red;\">\n",
              "The default version of TensorFlow in Colab will soon switch to TensorFlow 2.x.<br>\n",
              "We recommend you <a href=\"https://www.tensorflow.org/guide/migrate\" target=\"_blank\">upgrade</a> now \n",
              "or ensure your notebook will continue to use TensorFlow 1.x via the <code>%tensorflow_version 1.x</code> magic:\n",
              "<a href=\"https://colab.research.google.com/notebooks/tensorflow_version.ipynb\" target=\"_blank\">more info</a>.</p>\n"
            ],
            "text/plain": [
              "<IPython.core.display.HTML object>"
            ]
          },
          "metadata": {
            "tags": []
          }
        }
      ]
    },
    {
      "cell_type": "code",
      "metadata": {
        "id": "jzwy0wr6mYrd",
        "colab_type": "code",
        "colab": {
          "base_uri": "https://localhost:8080/",
          "height": 187
        },
        "outputId": "80276186-1421-4899-efdf-55a4fada355c"
      },
      "source": [
        "training_set_n = pd.read_csv(\"boston_train.csv\").values\n",
        "test_set_n = pd.read_csv(\"boston_test.csv\").values\n",
        "prediction_set_n = pd.read_csv(\"boston_predict.csv\").values\n",
        "np.round (training_set_n[:5])"
      ],
      "execution_count": 2,
      "outputs": [
        {
          "output_type": "execute_result",
          "data": {
            "text/plain": [
              "array([[  2.,   0.,  20.,   1.,   6.,  96.,   2., 403.,  15.,  24.,  nan,\n",
              "         nan],\n",
              "       [ 13.,   0.,  18.,   1.,   6.,  95.,   2., 666.,  20.,  13.,  nan,\n",
              "         nan],\n",
              "       [  0.,   0.,   7.,   0.,   7.,   3.,   6., 233.,  18.,  27.,  nan,\n",
              "         nan],\n",
              "       [  0.,   0.,  11.,   0.,   6.,  18.,   5., 305.,  19.,  22.,  nan,\n",
              "         nan],\n",
              "       [  0.,  80.,   2.,   0.,   7.,  38.,   7., 329.,  13.,  35.,  nan,\n",
              "         nan]])"
            ]
          },
          "metadata": {
            "tags": []
          },
          "execution_count": 2
        }
      ]
    },
    {
      "cell_type": "code",
      "metadata": {
        "id": "Rfce1A4UmYrp",
        "colab_type": "code",
        "colab": {
          "base_uri": "https://localhost:8080/",
          "height": 51
        },
        "outputId": "9b2ac79a-1265-4da4-fd51-a059df7d184b"
      },
      "source": [
        "def prepare_data(df):     \n",
        "        X_train = df[:, :-3]    \n",
        "        y_train = df[:,-3]    \n",
        "        return X_train, y_train\t\n",
        "X_train, y_train = prepare_data(training_set_n)\n",
        "X_test, y_test = prepare_data(test_set_n)\t\n",
        "x_predict = prediction_set_n[:, :-2]\t\t\t\n",
        "print(X_train.shape, y_train.shape, x_predict.shape)\t\t\t\n",
        "\n",
        "feature_columns = [tf.feature_column.numeric_column('x', shape=X_train.shape[1:])]\n",
        "print(feature_columns)"
      ],
      "execution_count": 9,
      "outputs": [
        {
          "output_type": "stream",
          "text": [
            "(400, 9) (400,) (6, 9)\n",
            "[NumericColumn(key='x', shape=(9,), default_value=None, dtype=tf.float32, normalizer_fn=None)]\n"
          ],
          "name": "stdout"
        }
      ]
    },
    {
      "cell_type": "code",
      "metadata": {
        "id": "rIn35nYdmYry",
        "colab_type": "code",
        "colab": {
          "base_uri": "https://localhost:8080/",
          "height": 173
        },
        "outputId": "0a860937-40ae-4bfd-dd1e-cff8d64a42fa"
      },
      "source": [
        "estimator = tf.estimator.LinearRegressor(    \n",
        "         feature_columns=feature_columns,    \n",
        "         model_dir=\"train1\")\t"
      ],
      "execution_count": 10,
      "outputs": [
        {
          "output_type": "stream",
          "text": [
            "INFO:tensorflow:Using default config.\n",
            "INFO:tensorflow:Using config: {'_model_dir': 'train1', '_tf_random_seed': None, '_save_summary_steps': 100, '_save_checkpoints_steps': None, '_save_checkpoints_secs': 600, '_session_config': allow_soft_placement: true\n",
            "graph_options {\n",
            "  rewrite_options {\n",
            "    meta_optimizer_iterations: ONE\n",
            "  }\n",
            "}\n",
            ", '_keep_checkpoint_max': 5, '_keep_checkpoint_every_n_hours': 10000, '_log_step_count_steps': 100, '_train_distribute': None, '_device_fn': None, '_protocol': None, '_eval_distribute': None, '_experimental_distribute': None, '_experimental_max_worker_delay_secs': None, '_session_creation_timeout_secs': 7200, '_service': None, '_cluster_spec': <tensorflow.python.training.server_lib.ClusterSpec object at 0x7f6547d78e48>, '_task_type': 'worker', '_task_id': 0, '_global_id_in_cluster': 0, '_master': '', '_evaluation_master': '', '_is_chief': True, '_num_ps_replicas': 0, '_num_worker_replicas': 1}\n"
          ],
          "name": "stdout"
        }
      ]
    },
    {
      "cell_type": "code",
      "metadata": {
        "id": "qKcidXFCmYr7",
        "colab_type": "code",
        "colab": {}
      },
      "source": [
        "# Train the estimator\n",
        "train_input = tf.estimator.inputs.numpy_input_fn(x={\"x\": X_train},    \n",
        "                                                 y=y_train,\n",
        "                                                 batch_size=128,\n",
        "                                                 shuffle=False,\n",
        "                                                 num_epochs=None)"
      ],
      "execution_count": 0,
      "outputs": []
    },
    {
      "cell_type": "code",
      "metadata": {
        "id": "zVsinm1omYsE",
        "colab_type": "code",
        "colab": {
          "base_uri": "https://localhost:8080/",
          "height": 1000
        },
        "outputId": "9cc47f48-4b5f-405d-9fef-e63fafd69ab4"
      },
      "source": [
        "estimator.train(input_fn = train_input,steps=5000) "
      ],
      "execution_count": 12,
      "outputs": [
        {
          "output_type": "stream",
          "text": [
            "WARNING:tensorflow:From /usr/local/lib/python3.6/dist-packages/tensorflow_core/python/training/training_util.py:236: Variable.initialized_value (from tensorflow.python.ops.variables) is deprecated and will be removed in a future version.\n",
            "Instructions for updating:\n",
            "Use Variable.read_value. Variables in 2.X are initialized automatically both in eager and graph (inside tf.defun) contexts.\n",
            "WARNING:tensorflow:From /usr/local/lib/python3.6/dist-packages/tensorflow_estimator/python/estimator/inputs/queues/feeding_queue_runner.py:62: QueueRunner.__init__ (from tensorflow.python.training.queue_runner_impl) is deprecated and will be removed in a future version.\n",
            "Instructions for updating:\n",
            "To construct input pipelines, use the `tf.data` module.\n",
            "WARNING:tensorflow:From /usr/local/lib/python3.6/dist-packages/tensorflow_estimator/python/estimator/inputs/queues/feeding_functions.py:500: add_queue_runner (from tensorflow.python.training.queue_runner_impl) is deprecated and will be removed in a future version.\n",
            "Instructions for updating:\n",
            "To construct input pipelines, use the `tf.data` module.\n",
            "INFO:tensorflow:Calling model_fn.\n",
            "WARNING:tensorflow:From /usr/local/lib/python3.6/dist-packages/tensorflow_core/python/feature_column/feature_column_v2.py:305: Layer.add_variable (from tensorflow.python.keras.engine.base_layer) is deprecated and will be removed in a future version.\n",
            "Instructions for updating:\n",
            "Please use `layer.add_weight` method instead.\n",
            "WARNING:tensorflow:From /usr/local/lib/python3.6/dist-packages/tensorflow_core/python/ops/resource_variable_ops.py:1630: calling BaseResourceVariable.__init__ (from tensorflow.python.ops.resource_variable_ops) with constraint is deprecated and will be removed in a future version.\n",
            "Instructions for updating:\n",
            "If using Keras pass *_constraint arguments to layers.\n",
            "WARNING:tensorflow:From /usr/local/lib/python3.6/dist-packages/tensorflow_estimator/python/estimator/canned/linear.py:308: to_float (from tensorflow.python.ops.math_ops) is deprecated and will be removed in a future version.\n",
            "Instructions for updating:\n",
            "Use `tf.cast` instead.\n",
            "INFO:tensorflow:Done calling model_fn.\n",
            "INFO:tensorflow:Create CheckpointSaverHook.\n",
            "WARNING:tensorflow:From /usr/local/lib/python3.6/dist-packages/tensorflow_core/python/ops/array_ops.py:1475: where (from tensorflow.python.ops.array_ops) is deprecated and will be removed in a future version.\n",
            "Instructions for updating:\n",
            "Use tf.where in 2.0, which has the same broadcast rule as np.where\n",
            "INFO:tensorflow:Graph was finalized.\n",
            "INFO:tensorflow:Running local_init_op.\n",
            "INFO:tensorflow:Done running local_init_op.\n",
            "WARNING:tensorflow:From /usr/local/lib/python3.6/dist-packages/tensorflow_core/python/training/monitored_session.py:882: start_queue_runners (from tensorflow.python.training.queue_runner_impl) is deprecated and will be removed in a future version.\n",
            "Instructions for updating:\n",
            "To construct input pipelines, use the `tf.data` module.\n",
            "INFO:tensorflow:Saving checkpoints for 0 into train1/model.ckpt.\n",
            "INFO:tensorflow:loss = 83729.64, step = 1\n",
            "WARNING:tensorflow:It seems that global step (tf.train.get_global_step) has not been increased. Current value (could be stable): 44 vs previous value: 44. You could increase the global step by passing tf.train.get_global_step() to Optimizer.apply_gradients or Optimizer.minimize.\n",
            "WARNING:tensorflow:It seems that global step (tf.train.get_global_step) has not been increased. Current value (could be stable): 47 vs previous value: 47. You could increase the global step by passing tf.train.get_global_step() to Optimizer.apply_gradients or Optimizer.minimize.\n",
            "WARNING:tensorflow:It seems that global step (tf.train.get_global_step) has not been increased. Current value (could be stable): 51 vs previous value: 51. You could increase the global step by passing tf.train.get_global_step() to Optimizer.apply_gradients or Optimizer.minimize.\n",
            "WARNING:tensorflow:It seems that global step (tf.train.get_global_step) has not been increased. Current value (could be stable): 55 vs previous value: 55. You could increase the global step by passing tf.train.get_global_step() to Optimizer.apply_gradients or Optimizer.minimize.\n",
            "WARNING:tensorflow:It seems that global step (tf.train.get_global_step) has not been increased. Current value (could be stable): 60 vs previous value: 60. You could increase the global step by passing tf.train.get_global_step() to Optimizer.apply_gradients or Optimizer.minimize.\n",
            "INFO:tensorflow:global_step/sec: 504.566\n",
            "INFO:tensorflow:loss = 13909.658, step = 101 (0.201 sec)\n",
            "INFO:tensorflow:global_step/sec: 675.828\n",
            "INFO:tensorflow:loss = 12881.449, step = 201 (0.148 sec)\n",
            "INFO:tensorflow:global_step/sec: 667.742\n",
            "INFO:tensorflow:loss = 12391.541, step = 301 (0.149 sec)\n",
            "INFO:tensorflow:global_step/sec: 668.018\n",
            "INFO:tensorflow:loss = 12050.5625, step = 401 (0.150 sec)\n",
            "INFO:tensorflow:global_step/sec: 634.889\n",
            "INFO:tensorflow:loss = 11766.133, step = 501 (0.160 sec)\n",
            "INFO:tensorflow:global_step/sec: 651.425\n",
            "INFO:tensorflow:loss = 11509.92, step = 601 (0.151 sec)\n",
            "INFO:tensorflow:global_step/sec: 643.421\n",
            "INFO:tensorflow:loss = 11272.891, step = 701 (0.155 sec)\n",
            "INFO:tensorflow:global_step/sec: 702.661\n",
            "INFO:tensorflow:loss = 11051.9795, step = 801 (0.143 sec)\n",
            "INFO:tensorflow:global_step/sec: 652.331\n",
            "INFO:tensorflow:loss = 10845.855, step = 901 (0.152 sec)\n",
            "INFO:tensorflow:global_step/sec: 670.972\n",
            "INFO:tensorflow:loss = 10653.592, step = 1001 (0.149 sec)\n",
            "INFO:tensorflow:global_step/sec: 610.295\n",
            "INFO:tensorflow:loss = 10474.33, step = 1101 (0.163 sec)\n",
            "INFO:tensorflow:global_step/sec: 627.053\n",
            "INFO:tensorflow:loss = 10307.187, step = 1201 (0.162 sec)\n",
            "INFO:tensorflow:global_step/sec: 643.408\n",
            "INFO:tensorflow:loss = 10151.303, step = 1301 (0.156 sec)\n",
            "INFO:tensorflow:global_step/sec: 598.132\n",
            "INFO:tensorflow:loss = 10005.834, step = 1401 (0.165 sec)\n",
            "INFO:tensorflow:global_step/sec: 629.807\n",
            "INFO:tensorflow:loss = 9869.973, step = 1501 (0.162 sec)\n",
            "INFO:tensorflow:global_step/sec: 644.679\n",
            "INFO:tensorflow:loss = 9742.977, step = 1601 (0.154 sec)\n",
            "INFO:tensorflow:global_step/sec: 674.782\n",
            "INFO:tensorflow:loss = 9624.158, step = 1701 (0.147 sec)\n",
            "INFO:tensorflow:global_step/sec: 672.44\n",
            "INFO:tensorflow:loss = 9512.879, step = 1801 (0.150 sec)\n",
            "INFO:tensorflow:global_step/sec: 686.488\n",
            "INFO:tensorflow:loss = 9408.561, step = 1901 (0.148 sec)\n",
            "INFO:tensorflow:global_step/sec: 679.649\n",
            "INFO:tensorflow:loss = 9310.674, step = 2001 (0.141 sec)\n",
            "INFO:tensorflow:global_step/sec: 676.796\n",
            "INFO:tensorflow:loss = 9218.739, step = 2101 (0.153 sec)\n",
            "INFO:tensorflow:global_step/sec: 703.352\n",
            "INFO:tensorflow:loss = 9132.313, step = 2201 (0.137 sec)\n",
            "INFO:tensorflow:global_step/sec: 630.929\n",
            "INFO:tensorflow:loss = 9051.0, step = 2301 (0.160 sec)\n",
            "INFO:tensorflow:global_step/sec: 685.12\n",
            "INFO:tensorflow:loss = 8974.424, step = 2401 (0.144 sec)\n",
            "INFO:tensorflow:global_step/sec: 669.348\n",
            "INFO:tensorflow:loss = 8902.255, step = 2501 (0.151 sec)\n",
            "INFO:tensorflow:global_step/sec: 771.623\n",
            "INFO:tensorflow:loss = 8834.189, step = 2601 (0.132 sec)\n",
            "INFO:tensorflow:global_step/sec: 675.966\n",
            "INFO:tensorflow:loss = 8769.94, step = 2701 (0.147 sec)\n",
            "INFO:tensorflow:global_step/sec: 702.848\n",
            "INFO:tensorflow:loss = 8709.256, step = 2801 (0.140 sec)\n",
            "INFO:tensorflow:global_step/sec: 675.715\n",
            "INFO:tensorflow:loss = 8651.893, step = 2901 (0.148 sec)\n",
            "INFO:tensorflow:global_step/sec: 661.403\n",
            "INFO:tensorflow:loss = 8597.639, step = 3001 (0.154 sec)\n",
            "INFO:tensorflow:global_step/sec: 690.555\n",
            "INFO:tensorflow:loss = 8546.285, step = 3101 (0.141 sec)\n",
            "INFO:tensorflow:global_step/sec: 649.478\n",
            "INFO:tensorflow:loss = 8497.652, step = 3201 (0.155 sec)\n",
            "INFO:tensorflow:global_step/sec: 684.176\n",
            "INFO:tensorflow:loss = 8451.568, step = 3301 (0.149 sec)\n",
            "INFO:tensorflow:global_step/sec: 598.519\n",
            "INFO:tensorflow:loss = 8407.873, step = 3401 (0.164 sec)\n",
            "INFO:tensorflow:global_step/sec: 691.388\n",
            "INFO:tensorflow:loss = 8366.425, step = 3501 (0.148 sec)\n",
            "INFO:tensorflow:global_step/sec: 678.054\n",
            "INFO:tensorflow:loss = 8327.082, step = 3601 (0.149 sec)\n",
            "INFO:tensorflow:global_step/sec: 667.082\n",
            "INFO:tensorflow:loss = 8289.719, step = 3701 (0.150 sec)\n",
            "INFO:tensorflow:global_step/sec: 648.118\n",
            "INFO:tensorflow:loss = 8254.22, step = 3801 (0.150 sec)\n",
            "INFO:tensorflow:global_step/sec: 649.749\n",
            "INFO:tensorflow:loss = 8220.474, step = 3901 (0.155 sec)\n",
            "INFO:tensorflow:global_step/sec: 611.982\n",
            "INFO:tensorflow:loss = 8188.384, step = 4001 (0.163 sec)\n",
            "INFO:tensorflow:global_step/sec: 674.775\n",
            "INFO:tensorflow:loss = 8157.847, step = 4101 (0.150 sec)\n",
            "INFO:tensorflow:global_step/sec: 662.196\n",
            "INFO:tensorflow:loss = 8128.785, step = 4201 (0.147 sec)\n",
            "INFO:tensorflow:global_step/sec: 656.123\n",
            "INFO:tensorflow:loss = 8101.1133, step = 4301 (0.153 sec)\n",
            "INFO:tensorflow:global_step/sec: 691.975\n",
            "INFO:tensorflow:loss = 8074.748, step = 4401 (0.147 sec)\n",
            "INFO:tensorflow:global_step/sec: 641\n",
            "INFO:tensorflow:loss = 8049.626, step = 4501 (0.155 sec)\n",
            "INFO:tensorflow:global_step/sec: 730.173\n",
            "INFO:tensorflow:loss = 8025.677, step = 4601 (0.136 sec)\n",
            "INFO:tensorflow:global_step/sec: 705.361\n",
            "INFO:tensorflow:loss = 8002.834, step = 4701 (0.144 sec)\n",
            "INFO:tensorflow:global_step/sec: 649.817\n",
            "INFO:tensorflow:loss = 7981.0425, step = 4801 (0.152 sec)\n",
            "INFO:tensorflow:global_step/sec: 655.846\n",
            "INFO:tensorflow:loss = 7960.2466, step = 4901 (0.153 sec)\n",
            "INFO:tensorflow:Saving checkpoints for 5000 into train1/model.ckpt.\n",
            "INFO:tensorflow:Loss for final step: 3530.2612.\n"
          ],
          "name": "stdout"
        },
        {
          "output_type": "execute_result",
          "data": {
            "text/plain": [
              "<tensorflow_estimator.python.estimator.canned.linear.LinearRegressor at 0x7f6547d78cc0>"
            ]
          },
          "metadata": {
            "tags": []
          },
          "execution_count": 12
        }
      ]
    },
    {
      "cell_type": "code",
      "metadata": {
        "id": "nSdDqFo5mYsO",
        "colab_type": "code",
        "colab": {}
      },
      "source": [
        "eval_input = tf.estimator.inputs.numpy_input_fn(    \n",
        "       x={\"x\": X_test},    \n",
        "       y=y_test, \n",
        "       shuffle=False,    \n",
        "       batch_size=128,    \n",
        "       num_epochs=1)"
      ],
      "execution_count": 0,
      "outputs": []
    },
    {
      "cell_type": "code",
      "metadata": {
        "id": "rcuJux_AmYsY",
        "colab_type": "code",
        "colab": {
          "base_uri": "https://localhost:8080/",
          "height": 292
        },
        "outputId": "d5276460-c455-4583-fa8b-8f3cc20699b7"
      },
      "source": [
        "estimator.evaluate(eval_input,steps=None)"
      ],
      "execution_count": 14,
      "outputs": [
        {
          "output_type": "stream",
          "text": [
            "INFO:tensorflow:Calling model_fn.\n",
            "INFO:tensorflow:Done calling model_fn.\n",
            "INFO:tensorflow:Starting evaluation at 2020-03-01T19:42:11Z\n",
            "INFO:tensorflow:Graph was finalized.\n",
            "INFO:tensorflow:Restoring parameters from train1/model.ckpt-5000\n",
            "INFO:tensorflow:Running local_init_op.\n",
            "INFO:tensorflow:Done running local_init_op.\n",
            "INFO:tensorflow:Finished evaluation at 2020-03-01-19:42:11\n",
            "INFO:tensorflow:Saving dict for global step 5000: average_loss = 19.181934, global_step = 5000, label/mean = 22.08, loss = 1918.1934, prediction/mean = 22.976862\n",
            "INFO:tensorflow:Saving 'checkpoint_path' summary for global step 5000: train1/model.ckpt-5000\n"
          ],
          "name": "stdout"
        },
        {
          "output_type": "execute_result",
          "data": {
            "text/plain": [
              "{'average_loss': 19.181934,\n",
              " 'global_step': 5000,\n",
              " 'label/mean': 22.08,\n",
              " 'loss': 1918.1934,\n",
              " 'prediction/mean': 22.976862}"
            ]
          },
          "metadata": {
            "tags": []
          },
          "execution_count": 14
        }
      ]
    },
    {
      "cell_type": "code",
      "metadata": {
        "id": "v2r1rs9SmYsg",
        "colab_type": "code",
        "colab": {}
      },
      "source": [
        "test_input = tf.estimator.inputs.numpy_input_fn(    \n",
        "        x={\"x\": x_predict},    \n",
        "        batch_size=128,    \n",
        "        num_epochs=1,   \n",
        "        shuffle=False)"
      ],
      "execution_count": 0,
      "outputs": []
    },
    {
      "cell_type": "code",
      "metadata": {
        "id": "irXxMqhdmYso",
        "colab_type": "code",
        "colab": {
          "base_uri": "https://localhost:8080/",
          "height": 156
        },
        "outputId": "3bee756b-b12f-407f-b61c-e58451b7d733"
      },
      "source": [
        "y = estimator.predict(test_input) \t\t\t\n",
        "predictions = list(p[\"predictions\"] for p in itertools.islice(y, 6))\n",
        "print(\"Predictions: {}\".format(str(predictions)))"
      ],
      "execution_count": 16,
      "outputs": [
        {
          "output_type": "stream",
          "text": [
            "INFO:tensorflow:Calling model_fn.\n",
            "INFO:tensorflow:Done calling model_fn.\n",
            "INFO:tensorflow:Graph was finalized.\n",
            "INFO:tensorflow:Restoring parameters from train1/model.ckpt-5000\n",
            "INFO:tensorflow:Running local_init_op.\n",
            "INFO:tensorflow:Done running local_init_op.\n",
            "Predictions: [array([35.231094], dtype=float32), array([19.068836], dtype=float32), array([24.466223], dtype=float32), array([33.787697], dtype=float32), array([14.434947], dtype=float32), array([20.162895], dtype=float32)]\n"
          ],
          "name": "stdout"
        }
      ]
    },
    {
      "cell_type": "code",
      "metadata": {
        "id": "NhpI87pAmYsy",
        "colab_type": "code",
        "colab": {}
      },
      "source": [
        ""
      ],
      "execution_count": 0,
      "outputs": []
    }
  ]
}